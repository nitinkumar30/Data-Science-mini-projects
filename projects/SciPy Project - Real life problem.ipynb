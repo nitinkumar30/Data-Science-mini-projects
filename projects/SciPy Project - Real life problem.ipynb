{
 "cells": [
  {
   "cell_type": "code",
   "execution_count": 1,
   "id": "5f790519",
   "metadata": {},
   "outputs": [],
   "source": [
    "# import required modules\n",
    "import numpy as np\n",
    "from scipy import linalg"
   ]
  },
  {
   "cell_type": "code",
   "execution_count": 3,
   "id": "786eedcc",
   "metadata": {},
   "outputs": [],
   "source": [
    "# Test has 30 questions worth 150 marks\n",
    "# Two types of questions will be there:\n",
    "# True,False worth 4 marks each\n",
    "# Multiple choice worth 9 points each\n",
    "\n",
    "# Let x be the no of true/false questions\n",
    "# Let y be the MCQ questions \n",
    "\n",
    "# x + y = 30\n",
    "# 4x + 9y = 150"
   ]
  },
  {
   "cell_type": "code",
   "execution_count": 4,
   "id": "b46febd1",
   "metadata": {},
   "outputs": [],
   "source": [
    "equation_1 = np.array([[1,1],[4,9]])\n",
    "equation_2 = np.array([30,150])"
   ]
  },
  {
   "cell_type": "code",
   "execution_count": 5,
   "id": "029e5e30",
   "metadata": {},
   "outputs": [
    {
     "data": {
      "text/plain": [
       "array([24.,  6.])"
      ]
     },
     "execution_count": 5,
     "metadata": {},
     "output_type": "execute_result"
    }
   ],
   "source": [
    "linalg.solve(equation_1, equation_2)"
   ]
  },
  {
   "cell_type": "code",
   "execution_count": 6,
   "id": "2831178a",
   "metadata": {},
   "outputs": [],
   "source": [
    "# Value of x = 24, Value of y = 6\n",
    "\n",
    "# Means, True/False questions will be 24 & MCQ questions will be 6 in number"
   ]
  },
  {
   "cell_type": "markdown",
   "id": "5862495d",
   "metadata": {},
   "source": [
    "# Another small project on CDF(Cumulative Distribution Function) & PDF(Probability Distribution Function)"
   ]
  },
  {
   "cell_type": "code",
   "execution_count": 7,
   "id": "544f4730",
   "metadata": {},
   "outputs": [],
   "source": [
    "# import required modules\n",
    "import numpy as np\n",
    "from scipy.stats import norm"
   ]
  },
  {
   "cell_type": "code",
   "execution_count": 10,
   "id": "1a72081e",
   "metadata": {},
   "outputs": [
    {
     "data": {
      "text/plain": [
       "array([-1.05485258,  1.5117182 , -0.90115778,  0.65030519,  0.78407227,\n",
       "        0.7012466 , -0.32047493, -0.259636  ,  0.93050326, -0.46026854,\n",
       "       -0.45063407,  0.17335658, -0.07151897,  1.22052371,  0.69540455,\n",
       "       -0.79991988, -0.67807837,  1.14896299,  1.01995076, -0.86299502])"
      ]
     },
     "execution_count": 10,
     "metadata": {},
     "output_type": "execute_result"
    }
   ],
   "source": [
    "norm.rvs(loc=0,scale=1,size=20)"
   ]
  },
  {
   "cell_type": "code",
   "execution_count": 14,
   "id": "ef86e070",
   "metadata": {},
   "outputs": [
    {
     "data": {
      "text/plain": [
       "0.9986501019683699"
      ]
     },
     "execution_count": 14,
     "metadata": {},
     "output_type": "execute_result"
    }
   ],
   "source": [
    "norm.cdf(10,loc=1,scale=3)"
   ]
  },
  {
   "cell_type": "code",
   "execution_count": 15,
   "id": "a16b1dd1",
   "metadata": {},
   "outputs": [
    {
     "data": {
      "text/plain": [
       "7.998827757006813e-38"
      ]
     },
     "execution_count": 15,
     "metadata": {},
     "output_type": "execute_result"
    }
   ],
   "source": [
    "norm.pdf(14,loc=1,scale=1)"
   ]
  }
 ],
 "metadata": {
  "kernelspec": {
   "display_name": "Python 3",
   "language": "python",
   "name": "python3"
  },
  "language_info": {
   "codemirror_mode": {
    "name": "ipython",
    "version": 3
   },
   "file_extension": ".py",
   "mimetype": "text/x-python",
   "name": "python",
   "nbconvert_exporter": "python",
   "pygments_lexer": "ipython3",
   "version": "3.8.8"
  }
 },
 "nbformat": 4,
 "nbformat_minor": 5
}
