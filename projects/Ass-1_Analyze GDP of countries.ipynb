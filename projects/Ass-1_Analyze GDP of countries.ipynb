{
 "cells": [
  {
   "cell_type": "code",
   "execution_count": 2,
   "id": "325256a3",
   "metadata": {},
   "outputs": [],
   "source": [
    "import numpy as np"
   ]
  },
  {
   "cell_type": "code",
   "execution_count": 3,
   "id": "93073608",
   "metadata": {},
   "outputs": [],
   "source": [
    "# List of countries:\n",
    "\n",
    "countries = np.array(['Algeria','Angola','Argentina','Australia','Austria','Bahamas','Bangladesh','Belarus','Belgium','Bhutan','Brazil','Bulgaria','Cambodia','Cameroon','Chile','China','Colombia','Cyprus','Denmark','El Salvador','Estonia','Ethiopia','Fiji','Finland','France','Georgia','Ghana','Grenada','Guinea','Haiti','Honduras','Hungary','India','Indonesia','Ireland','Italy','Japan','Kenya', 'South Korea','Liberia','Malaysia','Mexico', 'Morocco','Nepal','New Zealand','Norway','Pakistan', 'Peru','Qatar','Russia','Singapore','South Africa','Spain','Sweden','Switzerland','Thailand', 'United Arab Emirates','United Kingdom','United States','Uruguay','Venezuela','Vietnam','Zimbabwe'])\n",
    "\n",
    "\n",
    "# GDP values for each country:\n",
    "\n",
    "gdp_countries = np.array([2255.225482,629.9553062,11601.63022,25306.82494,27266.40335,19466.99052,588.3691778,2890.345675,24733.62696,1445.760002,4803.398244,2618.876037,590.4521124,665.7982328,7122.938458,2639.54156,3362.4656,15378.16704,30860.12808,2579.115607,6525.541272,229.6769525,2242.689259,27570.4852,23016.84778,1334.646773,402.6953275,6047.200797,394.1156638,385.5793827,1414.072488,5745.981529,837.7464011,1206.991065,27715.52837,18937.24998,39578.07441,478.2194906,16684.21278,279.2204061,5345.213415,6288.25324,1908.304416,274.8728621,14646.42094,40034.85063,672.1547506,3359.517402,36152.66676,3054.727742,33529.83052,3825.093781,15428.32098,33630.24604,39170.41371,2699.123242,21058.43643,28272.40661,37691.02733,9581.05659,5671.912202,757.4009286,347.7456605])"
   ]
  },
  {
   "cell_type": "code",
   "execution_count": 6,
   "id": "be87afa6",
   "metadata": {},
   "outputs": [],
   "source": [
    "country_gdp_dict = {}\n",
    "for A, B in zip(countries, gdp_countries):\n",
    "    country_gdp_dict[A] = B"
   ]
  },
  {
   "cell_type": "code",
   "execution_count": 7,
   "id": "499a3d6e",
   "metadata": {},
   "outputs": [
    {
     "data": {
      "text/plain": [
       "{'Algeria': 2255.225482,\n",
       " 'Angola': 629.9553062,\n",
       " 'Argentina': 11601.63022,\n",
       " 'Australia': 25306.82494,\n",
       " 'Austria': 27266.40335,\n",
       " 'Bahamas': 19466.99052,\n",
       " 'Bangladesh': 588.3691778,\n",
       " 'Belarus': 2890.345675,\n",
       " 'Belgium': 24733.62696,\n",
       " 'Bhutan': 1445.760002,\n",
       " 'Brazil': 4803.398244,\n",
       " 'Bulgaria': 2618.876037,\n",
       " 'Cambodia': 590.4521124,\n",
       " 'Cameroon': 665.7982328,\n",
       " 'Chile': 7122.938458,\n",
       " 'China': 2639.54156,\n",
       " 'Colombia': 3362.4656,\n",
       " 'Cyprus': 15378.16704,\n",
       " 'Denmark': 30860.12808,\n",
       " 'El Salvador': 2579.115607,\n",
       " 'Estonia': 6525.541272,\n",
       " 'Ethiopia': 229.6769525,\n",
       " 'Fiji': 2242.689259,\n",
       " 'Finland': 27570.4852,\n",
       " 'France': 23016.84778,\n",
       " 'Georgia': 1334.646773,\n",
       " 'Ghana': 402.6953275,\n",
       " 'Grenada': 6047.200797,\n",
       " 'Guinea': 394.1156638,\n",
       " 'Haiti': 385.5793827,\n",
       " 'Honduras': 1414.072488,\n",
       " 'Hungary': 5745.981529,\n",
       " 'India': 837.7464011,\n",
       " 'Indonesia': 1206.991065,\n",
       " 'Ireland': 27715.52837,\n",
       " 'Italy': 18937.24998,\n",
       " 'Japan': 39578.07441,\n",
       " 'Kenya': 478.2194906,\n",
       " 'South Korea': 16684.21278,\n",
       " 'Liberia': 279.2204061,\n",
       " 'Malaysia': 5345.213415,\n",
       " 'Mexico': 6288.25324,\n",
       " 'Morocco': 1908.304416,\n",
       " 'Nepal': 274.8728621,\n",
       " 'New Zealand': 14646.42094,\n",
       " 'Norway': 40034.85063,\n",
       " 'Pakistan': 672.1547506,\n",
       " 'Peru': 3359.517402,\n",
       " 'Qatar': 36152.66676,\n",
       " 'Russia': 3054.727742,\n",
       " 'Singapore': 33529.83052,\n",
       " 'South Africa': 3825.093781,\n",
       " 'Spain': 15428.32098,\n",
       " 'Sweden': 33630.24604,\n",
       " 'Switzerland': 39170.41371,\n",
       " 'Thailand': 2699.123242,\n",
       " 'United Arab Emirates': 21058.43643,\n",
       " 'United Kingdom': 28272.40661,\n",
       " 'United States': 37691.02733,\n",
       " 'Uruguay': 9581.05659,\n",
       " 'Venezuela': 5671.912202,\n",
       " 'Vietnam': 757.4009286,\n",
       " 'Zimbabwe': 347.7456605}"
      ]
     },
     "execution_count": 7,
     "metadata": {},
     "output_type": "execute_result"
    }
   ],
   "source": [
    "country_gdp_dict"
   ]
  },
  {
   "cell_type": "code",
   "execution_count": 44,
   "id": "efe3a733",
   "metadata": {},
   "outputs": [],
   "source": [
    "sorted_country_gdp = sorted(country_gdp_dict.items(), key = lambda kv:(kv[1], kv[0]))"
   ]
  },
  {
   "cell_type": "code",
   "execution_count": 45,
   "id": "b2bfbdc5",
   "metadata": {},
   "outputs": [
    {
     "data": {
      "text/plain": [
       "[('Ethiopia', 229.6769525),\n",
       " ('Nepal', 274.8728621),\n",
       " ('Liberia', 279.2204061),\n",
       " ('Zimbabwe', 347.7456605),\n",
       " ('Haiti', 385.5793827),\n",
       " ('Guinea', 394.1156638),\n",
       " ('Ghana', 402.6953275),\n",
       " ('Kenya', 478.2194906),\n",
       " ('Bangladesh', 588.3691778),\n",
       " ('Cambodia', 590.4521124),\n",
       " ('Angola', 629.9553062),\n",
       " ('Cameroon', 665.7982328),\n",
       " ('Pakistan', 672.1547506),\n",
       " ('Vietnam', 757.4009286),\n",
       " ('India', 837.7464011),\n",
       " ('Indonesia', 1206.991065),\n",
       " ('Georgia', 1334.646773),\n",
       " ('Honduras', 1414.072488),\n",
       " ('Bhutan', 1445.760002),\n",
       " ('Morocco', 1908.304416),\n",
       " ('Fiji', 2242.689259),\n",
       " ('Algeria', 2255.225482),\n",
       " ('El Salvador', 2579.115607),\n",
       " ('Bulgaria', 2618.876037),\n",
       " ('China', 2639.54156),\n",
       " ('Thailand', 2699.123242),\n",
       " ('Belarus', 2890.345675),\n",
       " ('Russia', 3054.727742),\n",
       " ('Peru', 3359.517402),\n",
       " ('Colombia', 3362.4656),\n",
       " ('South Africa', 3825.093781),\n",
       " ('Brazil', 4803.398244),\n",
       " ('Malaysia', 5345.213415),\n",
       " ('Venezuela', 5671.912202),\n",
       " ('Hungary', 5745.981529),\n",
       " ('Grenada', 6047.200797),\n",
       " ('Mexico', 6288.25324),\n",
       " ('Estonia', 6525.541272),\n",
       " ('Chile', 7122.938458),\n",
       " ('Uruguay', 9581.05659),\n",
       " ('Argentina', 11601.63022),\n",
       " ('New Zealand', 14646.42094),\n",
       " ('Cyprus', 15378.16704),\n",
       " ('Spain', 15428.32098),\n",
       " ('South Korea', 16684.21278),\n",
       " ('Italy', 18937.24998),\n",
       " ('Bahamas', 19466.99052),\n",
       " ('United Arab Emirates', 21058.43643),\n",
       " ('France', 23016.84778),\n",
       " ('Belgium', 24733.62696),\n",
       " ('Australia', 25306.82494),\n",
       " ('Austria', 27266.40335),\n",
       " ('Finland', 27570.4852),\n",
       " ('Ireland', 27715.52837),\n",
       " ('United Kingdom', 28272.40661),\n",
       " ('Denmark', 30860.12808),\n",
       " ('Singapore', 33529.83052),\n",
       " ('Sweden', 33630.24604),\n",
       " ('Qatar', 36152.66676),\n",
       " ('United States', 37691.02733),\n",
       " ('Switzerland', 39170.41371),\n",
       " ('Japan', 39578.07441),\n",
       " ('Norway', 40034.85063)]"
      ]
     },
     "execution_count": 45,
     "metadata": {},
     "output_type": "execute_result"
    }
   ],
   "source": [
    "sorted_country_gdp  # text & input values iteratively & list of countries with their GDP values"
   ]
  },
  {
   "cell_type": "code",
   "execution_count": 69,
   "id": "794f767e",
   "metadata": {},
   "outputs": [
    {
     "data": {
      "text/plain": [
       "('Norway', 40034.85063)"
      ]
     },
     "execution_count": 69,
     "metadata": {},
     "output_type": "execute_result"
    }
   ],
   "source": [
    "list(sorted_country_gdp)[-1]   # highest GDP"
   ]
  },
  {
   "cell_type": "code",
   "execution_count": 72,
   "id": "6addb6a9",
   "metadata": {},
   "outputs": [
    {
     "data": {
      "text/plain": [
       "('Ethiopia', 229.6769525)"
      ]
     },
     "execution_count": 72,
     "metadata": {},
     "output_type": "execute_result"
    }
   ],
   "source": [
    "list(sorted_country_gdp)[0]    # lowest GDP"
   ]
  },
  {
   "cell_type": "code",
   "execution_count": 36,
   "id": "c6da8c52",
   "metadata": {},
   "outputs": [
    {
     "data": {
      "text/plain": [
       "11289.409271639684"
      ]
     },
     "execution_count": 36,
     "metadata": {},
     "output_type": "execute_result"
    }
   ],
   "source": [
    "sum(gdp_countries)/len(sorted_country_gdp)   # mean GDP values"
   ]
  },
  {
   "cell_type": "code",
   "execution_count": 37,
   "id": "e05cbadb",
   "metadata": {},
   "outputs": [
    {
     "data": {
      "text/plain": [
       "711232.7841133001"
      ]
     },
     "execution_count": 37,
     "metadata": {},
     "output_type": "execute_result"
    }
   ],
   "source": [
    "sum(gdp_countries)   # sum of all GDP values"
   ]
  },
  {
   "cell_type": "markdown",
   "id": "7689ebe2",
   "metadata": {},
   "source": [
    "## Solution as per them"
   ]
  },
  {
   "cell_type": "code",
   "execution_count": 73,
   "id": "1be153e4",
   "metadata": {},
   "outputs": [],
   "source": [
    "import numpy as np"
   ]
  },
  {
   "cell_type": "code",
   "execution_count": 74,
   "id": "4c90e542",
   "metadata": {},
   "outputs": [
    {
     "data": {
      "text/plain": [
       "array(['Algeria', 'Angola', 'Argentina', 'Australia', 'Austria',\n",
       "       'Bahamas', 'Bangladesh', 'Belarus', 'Belgium', 'Bhutan', 'Brazil',\n",
       "       'Bulgaria', 'Cambodia', 'Cameroon', 'Chile', 'China', 'Colombia',\n",
       "       'Cyprus', 'Denmark', 'El Salvador', 'Estonia', 'Ethiopia', 'Fiji',\n",
       "       'Finland', 'France', 'Georgia', 'Ghana', 'Grenada', 'Guinea',\n",
       "       'Haiti', 'Honduras', 'Hungary', 'India', 'Indonesia', 'Ireland',\n",
       "       'Italy', 'Japan', 'Kenya', 'South Korea', 'Liberia', 'Malaysia',\n",
       "       'Mexico', 'Morocco', 'Nepal', 'New Zealand', 'Norway', 'Pakistan',\n",
       "       'Peru', 'Qatar', 'Russia', 'Singapore', 'South Africa', 'Spain',\n",
       "       'Sweden', 'Switzerland', 'Thailand', 'United Arab Emirates',\n",
       "       'United Kingdom', 'United States', 'Uruguay', 'Venezuela',\n",
       "       'Vietnam', 'Zimbabwe'], dtype='<U20')"
      ]
     },
     "execution_count": 74,
     "metadata": {},
     "output_type": "execute_result"
    }
   ],
   "source": [
    "countries = np.array(['Algeria','Angola','Argentina','Australia','Austria','Bahamas','Bangladesh','Belarus','Belgium','Bhutan','Brazil','Bulgaria','Cambodia','Cameroon','Chile','China','Colombia','Cyprus','Denmark','El Salvador','Estonia','Ethiopia','Fiji','Finland','France','Georgia','Ghana','Grenada','Guinea','Haiti','Honduras','Hungary','India','Indonesia','Ireland','Italy','Japan','Kenya', 'South Korea','Liberia','Malaysia','Mexico', 'Morocco','Nepal','New Zealand','Norway','Pakistan', 'Peru','Qatar','Russia','Singapore','South Africa','Spain','Sweden','Switzerland','Thailand', 'United Arab Emirates','United Kingdom','United States','Uruguay','Venezuela','Vietnam','Zimbabwe'])\n",
    "\n",
    "countries"
   ]
  },
  {
   "cell_type": "code",
   "execution_count": 75,
   "id": "221144b7",
   "metadata": {},
   "outputs": [
    {
     "data": {
      "text/plain": [
       "array([ 2255.225482 ,   629.9553062, 11601.63022  , 25306.82494  ,\n",
       "       27266.40335  , 19466.99052  ,   588.3691778,  2890.345675 ,\n",
       "       24733.62696  ,  1445.760002 ,  4803.398244 ,  2618.876037 ,\n",
       "         590.4521124,   665.7982328,  7122.938458 ,  2639.54156  ,\n",
       "        3362.4656   , 15378.16704  , 30860.12808  ,  2579.115607 ,\n",
       "        6525.541272 ,   229.6769525,  2242.689259 , 27570.4852   ,\n",
       "       23016.84778  ,  1334.646773 ,   402.6953275,  6047.200797 ,\n",
       "         394.1156638,   385.5793827,  1414.072488 ,  5745.981529 ,\n",
       "         837.7464011,  1206.991065 , 27715.52837  , 18937.24998  ,\n",
       "       39578.07441  ,   478.2194906, 16684.21278  ,   279.2204061,\n",
       "        5345.213415 ,  6288.25324  ,  1908.304416 ,   274.8728621,\n",
       "       14646.42094  , 40034.85063  ,   672.1547506,  3359.517402 ,\n",
       "       36152.66676  ,  3054.727742 , 33529.83052  ,  3825.093781 ,\n",
       "       15428.32098  , 33630.24604  , 39170.41371  ,  2699.123242 ,\n",
       "       21058.43643  , 28272.40661  , 37691.02733  ,  9581.05659  ,\n",
       "        5671.912202 ,   757.4009286,   347.7456605])"
      ]
     },
     "execution_count": 75,
     "metadata": {},
     "output_type": "execute_result"
    }
   ],
   "source": [
    "gdp_countries = np.array([2255.225482,629.9553062,11601.63022,25306.82494,27266.40335,19466.99052,588.3691778,2890.345675,24733.62696,1445.760002,4803.398244,2618.876037,590.4521124,665.7982328,7122.938458,2639.54156,3362.4656,15378.16704,30860.12808,2579.115607,6525.541272,229.6769525,2242.689259,27570.4852,23016.84778,1334.646773,402.6953275,6047.200797,394.1156638,385.5793827,1414.072488,5745.981529,837.7464011,1206.991065,27715.52837,18937.24998,39578.07441,478.2194906,16684.21278,279.2204061,5345.213415,6288.25324,1908.304416,274.8728621,14646.42094,40034.85063,672.1547506,3359.517402,36152.66676,3054.727742,33529.83052,3825.093781,15428.32098,33630.24604,39170.41371,2699.123242,21058.43643,28272.40661,37691.02733,9581.05659,5671.912202,757.4009286,347.7456605])\n",
    "\n",
    "gdp_countries"
   ]
  },
  {
   "cell_type": "code",
   "execution_count": 78,
   "id": "b98f1b62",
   "metadata": {},
   "outputs": [],
   "source": [
    "max_gdp_countries = gdp_countries.argmax()"
   ]
  },
  {
   "cell_type": "code",
   "execution_count": 80,
   "id": "1b703f7e",
   "metadata": {},
   "outputs": [
    {
     "data": {
      "text/plain": [
       "'Norway'"
      ]
     },
     "execution_count": 80,
     "metadata": {},
     "output_type": "execute_result"
    }
   ],
   "source": [
    "country_with_highest_gdp = countries[max_gdp_countries]\n",
    "country_with_highest_gdp"
   ]
  },
  {
   "cell_type": "code",
   "execution_count": 82,
   "id": "c03ddc8a",
   "metadata": {},
   "outputs": [],
   "source": [
    "min_gdp_countries = gdp_countries.argmin()"
   ]
  },
  {
   "cell_type": "code",
   "execution_count": 83,
   "id": "2dad97c8",
   "metadata": {},
   "outputs": [
    {
     "data": {
      "text/plain": [
       "'Ethiopia'"
      ]
     },
     "execution_count": 83,
     "metadata": {},
     "output_type": "execute_result"
    }
   ],
   "source": [
    "country_with_lowest_gdp = countries[min_gdp_countries]\n",
    "country_with_lowest_gdp"
   ]
  },
  {
   "cell_type": "code",
   "execution_count": 84,
   "id": "6b9df34b",
   "metadata": {},
   "outputs": [
    {
     "name": "stdout",
     "output_type": "stream",
     "text": [
      "Algeria\n",
      "Angola\n",
      "Argentina\n",
      "Australia\n",
      "Austria\n",
      "Bahamas\n",
      "Bangladesh\n",
      "Belarus\n",
      "Belgium\n",
      "Bhutan\n",
      "Brazil\n",
      "Bulgaria\n",
      "Cambodia\n",
      "Cameroon\n",
      "Chile\n",
      "China\n",
      "Colombia\n",
      "Cyprus\n",
      "Denmark\n",
      "El Salvador\n",
      "Estonia\n",
      "Ethiopia\n",
      "Fiji\n",
      "Finland\n",
      "France\n",
      "Georgia\n",
      "Ghana\n",
      "Grenada\n",
      "Guinea\n",
      "Haiti\n",
      "Honduras\n",
      "Hungary\n",
      "India\n",
      "Indonesia\n",
      "Ireland\n",
      "Italy\n",
      "Japan\n",
      "Kenya\n",
      "South Korea\n",
      "Liberia\n",
      "Malaysia\n",
      "Mexico\n",
      "Morocco\n",
      "Nepal\n",
      "New Zealand\n",
      "Norway\n",
      "Pakistan\n",
      "Peru\n",
      "Qatar\n",
      "Russia\n",
      "Singapore\n",
      "South Africa\n",
      "Spain\n",
      "Sweden\n",
      "Switzerland\n",
      "Thailand\n",
      "United Arab Emirates\n",
      "United Kingdom\n",
      "United States\n",
      "Uruguay\n",
      "Venezuela\n",
      "Vietnam\n",
      "Zimbabwe\n"
     ]
    }
   ],
   "source": [
    "for country in countries:\n",
    "    print(country)"
   ]
  },
  {
   "cell_type": "code",
   "execution_count": 85,
   "id": "c580993c",
   "metadata": {},
   "outputs": [
    {
     "name": "stdout",
     "output_type": "stream",
     "text": [
      "2255.225482\n",
      "629.9553062\n",
      "11601.63022\n",
      "25306.82494\n",
      "27266.40335\n",
      "19466.99052\n",
      "588.3691778\n",
      "2890.345675\n",
      "24733.62696\n",
      "1445.760002\n",
      "4803.398244\n",
      "2618.876037\n",
      "590.4521124\n",
      "665.7982328\n",
      "7122.938458\n",
      "2639.54156\n",
      "3362.4656\n",
      "15378.16704\n",
      "30860.12808\n",
      "2579.115607\n",
      "6525.541272\n",
      "229.6769525\n",
      "2242.689259\n",
      "27570.4852\n",
      "23016.84778\n",
      "1334.646773\n",
      "402.6953275\n",
      "6047.200797\n",
      "394.1156638\n",
      "385.5793827\n",
      "1414.072488\n",
      "5745.981529\n",
      "837.7464011\n",
      "1206.991065\n",
      "27715.52837\n",
      "18937.24998\n",
      "39578.07441\n",
      "478.2194906\n",
      "16684.21278\n",
      "279.2204061\n",
      "5345.213415\n",
      "6288.25324\n",
      "1908.304416\n",
      "274.8728621\n",
      "14646.42094\n",
      "40034.85063\n",
      "672.1547506\n",
      "3359.517402\n",
      "36152.66676\n",
      "3054.727742\n",
      "33529.83052\n",
      "3825.093781\n",
      "15428.32098\n",
      "33630.24604\n",
      "39170.41371\n",
      "2699.123242\n",
      "21058.43643\n",
      "28272.40661\n",
      "37691.02733\n",
      "9581.05659\n",
      "5671.912202\n",
      "757.4009286\n",
      "347.7456605\n"
     ]
    }
   ],
   "source": [
    "for gdp in gdp_countries:\n",
    "    print(gdp)"
   ]
  },
  {
   "cell_type": "code",
   "execution_count": 86,
   "id": "a504f909",
   "metadata": {},
   "outputs": [
    {
     "name": "stdout",
     "output_type": "stream",
     "text": [
      "Algeria has GDP as 2255.225482\n",
      "Angola has GDP as 629.9553062\n",
      "Argentina has GDP as 11601.63022\n",
      "Australia has GDP as 25306.82494\n",
      "Austria has GDP as 27266.40335\n",
      "Bahamas has GDP as 19466.99052\n",
      "Bangladesh has GDP as 588.3691778\n",
      "Belarus has GDP as 2890.345675\n",
      "Belgium has GDP as 24733.62696\n",
      "Bhutan has GDP as 1445.760002\n",
      "Brazil has GDP as 4803.398244\n",
      "Bulgaria has GDP as 2618.876037\n",
      "Cambodia has GDP as 590.4521124\n",
      "Cameroon has GDP as 665.7982328\n",
      "Chile has GDP as 7122.938458\n",
      "China has GDP as 2639.54156\n",
      "Colombia has GDP as 3362.4656\n",
      "Cyprus has GDP as 15378.16704\n",
      "Denmark has GDP as 30860.12808\n",
      "El Salvador has GDP as 2579.115607\n",
      "Estonia has GDP as 6525.541272\n",
      "Ethiopia has GDP as 229.6769525\n",
      "Fiji has GDP as 2242.689259\n",
      "Finland has GDP as 27570.4852\n",
      "France has GDP as 23016.84778\n",
      "Georgia has GDP as 1334.646773\n",
      "Ghana has GDP as 402.6953275\n",
      "Grenada has GDP as 6047.200797\n",
      "Guinea has GDP as 394.1156638\n",
      "Haiti has GDP as 385.5793827\n",
      "Honduras has GDP as 1414.072488\n",
      "Hungary has GDP as 5745.981529\n",
      "India has GDP as 837.7464011\n",
      "Indonesia has GDP as 1206.991065\n",
      "Ireland has GDP as 27715.52837\n",
      "Italy has GDP as 18937.24998\n",
      "Japan has GDP as 39578.07441\n",
      "Kenya has GDP as 478.2194906\n",
      "South Korea has GDP as 16684.21278\n",
      "Liberia has GDP as 279.2204061\n",
      "Malaysia has GDP as 5345.213415\n",
      "Mexico has GDP as 6288.25324\n",
      "Morocco has GDP as 1908.304416\n",
      "Nepal has GDP as 274.8728621\n",
      "New Zealand has GDP as 14646.42094\n",
      "Norway has GDP as 40034.85063\n",
      "Pakistan has GDP as 672.1547506\n",
      "Peru has GDP as 3359.517402\n",
      "Qatar has GDP as 36152.66676\n",
      "Russia has GDP as 3054.727742\n",
      "Singapore has GDP as 33529.83052\n",
      "South Africa has GDP as 3825.093781\n",
      "Spain has GDP as 15428.32098\n",
      "Sweden has GDP as 33630.24604\n",
      "Switzerland has GDP as 39170.41371\n",
      "Thailand has GDP as 2699.123242\n",
      "United Arab Emirates has GDP as 21058.43643\n",
      "United Kingdom has GDP as 28272.40661\n",
      "United States has GDP as 37691.02733\n",
      "Uruguay has GDP as 9581.05659\n",
      "Venezuela has GDP as 5671.912202\n",
      "Vietnam has GDP as 757.4009286\n",
      "Zimbabwe has GDP as 347.7456605\n"
     ]
    }
   ],
   "source": [
    "for i in range(len(countries)):\n",
    "    country = countries[i]\n",
    "    gdp = gdp_countries[i]\n",
    "    print(country,'has GDP as',gdp)"
   ]
  },
  {
   "cell_type": "code",
   "execution_count": 89,
   "id": "65fb92c5",
   "metadata": {},
   "outputs": [
    {
     "name": "stdout",
     "output_type": "stream",
     "text": [
      "40034.85063\n",
      "229.6769525\n",
      "11289.409271639683\n",
      "12743.828910617945\n",
      "711232.7841133\n"
     ]
    }
   ],
   "source": [
    "print(gdp_countries.max())\n",
    "print(gdp_countries.min())\n",
    "print(gdp_countries.mean())\n",
    "print(gdp_countries.std())\n",
    "print(gdp_countries.sum())"
   ]
  }
 ],
 "metadata": {
  "kernelspec": {
   "display_name": "Python 3",
   "language": "python",
   "name": "python3"
  },
  "language_info": {
   "codemirror_mode": {
    "name": "ipython",
    "version": 3
   },
   "file_extension": ".py",
   "mimetype": "text/x-python",
   "name": "python",
   "nbconvert_exporter": "python",
   "pygments_lexer": "ipython3",
   "version": "3.8.8"
  }
 },
 "nbformat": 4,
 "nbformat_minor": 5
}
