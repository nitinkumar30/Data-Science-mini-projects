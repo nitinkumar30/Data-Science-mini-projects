{
 "cells": [
  {
   "cell_type": "markdown",
   "id": "58846165",
   "metadata": {},
   "source": [
    "# A simple practice project related to numpy"
   ]
  },
  {
   "cell_type": "code",
   "execution_count": 1,
   "id": "dc904e47",
   "metadata": {},
   "outputs": [],
   "source": [
    "import numpy as np"
   ]
  },
  {
   "cell_type": "code",
   "execution_count": 11,
   "id": "7c3cf0a6",
   "metadata": {},
   "outputs": [],
   "source": [
    "country = np.array(['Great Britain','China','Russia','United States','Korea','Japan','Germany'])\n",
    "gold_medal = np.array([29,38,24,46,13,7,11])\n",
    "silver_medal = np.array([17,28,25,28,8,14,11])\n",
    "bronze_medal = np.array([19,22,32,29,7,17,14])"
   ]
  },
  {
   "cell_type": "code",
   "execution_count": 15,
   "id": "ed5dc521",
   "metadata": {},
   "outputs": [
    {
     "data": {
      "text/plain": [
       "3"
      ]
     },
     "execution_count": 15,
     "metadata": {},
     "output_type": "execute_result"
    }
   ],
   "source": [
    "gold_medal_max = gold_medal.argmax()\n",
    "gold_medal_max"
   ]
  },
  {
   "cell_type": "code",
   "execution_count": 16,
   "id": "ad146f50",
   "metadata": {},
   "outputs": [
    {
     "data": {
      "text/plain": [
       "'United States'"
      ]
     },
     "execution_count": 16,
     "metadata": {},
     "output_type": "execute_result"
    }
   ],
   "source": [
    "country_with_highest_gold_medal = country[gold_medal_max]\n",
    "country_with_highest_gold_medal"
   ]
  },
  {
   "cell_type": "code",
   "execution_count": 18,
   "id": "94d6ed20",
   "metadata": {},
   "outputs": [
    {
     "data": {
      "text/plain": [
       "array(['Great Britain', 'China', 'Russia', 'United States'], dtype='<U13')"
      ]
     },
     "execution_count": 18,
     "metadata": {},
     "output_type": "execute_result"
    }
   ],
   "source": [
    "country[gold_medal>20]"
   ]
  },
  {
   "cell_type": "code",
   "execution_count": 19,
   "id": "97ba18f1",
   "metadata": {},
   "outputs": [
    {
     "data": {
      "text/plain": [
       "439"
      ]
     },
     "execution_count": 19,
     "metadata": {},
     "output_type": "execute_result"
    }
   ],
   "source": [
    "np.sum(gold_medal+silver_medal+bronze_medal)"
   ]
  },
  {
   "cell_type": "code",
   "execution_count": 23,
   "id": "37930623",
   "metadata": {},
   "outputs": [
    {
     "name": "stdout",
     "output_type": "stream",
     "text": [
      "Great Britain has 29 gold medals\n",
      "China has 38 gold medals\n",
      "Russia has 24 gold medals\n",
      "United States has 46 gold medals\n",
      "Korea has 13 gold medals\n",
      "Japan has 7 gold medals\n",
      "Germany has 11 gold medals\n"
     ]
    }
   ],
   "source": [
    "for i in range(len(country)):\n",
    "    c=country[i]\n",
    "    gm=gold_medal[i]\n",
    "    \n",
    "    print(c,'has',gm,'gold medals')"
   ]
  },
  {
   "cell_type": "code",
   "execution_count": 24,
   "id": "24ecac34",
   "metadata": {},
   "outputs": [
    {
     "name": "stdout",
     "output_type": "stream",
     "text": [
      "Great Britain has 65 total medals\n",
      "China has 88 total medals\n",
      "Russia has 81 total medals\n",
      "United States has 103 total medals\n",
      "Korea has 28 total medals\n",
      "Japan has 38 total medals\n",
      "Germany has 36 total medals\n"
     ]
    }
   ],
   "source": [
    "for i in range(len(country)):\n",
    "    c=country[i]\n",
    "    gm=gold_medal[i]\n",
    "    sm=silver_medal[i]\n",
    "    bm=bronze_medal[i]\n",
    "    \n",
    "    print(c,'has',gm+sm+bm,'total medals')"
   ]
  },
  {
   "cell_type": "markdown",
   "id": "55577e97",
   "metadata": {},
   "source": [
    "## This marks the end of this small project"
   ]
  }
 ],
 "metadata": {
  "kernelspec": {
   "display_name": "Python 3",
   "language": "python",
   "name": "python3"
  },
  "language_info": {
   "codemirror_mode": {
    "name": "ipython",
    "version": 3
   },
   "file_extension": ".py",
   "mimetype": "text/x-python",
   "name": "python",
   "nbconvert_exporter": "python",
   "pygments_lexer": "ipython3",
   "version": "3.8.8"
  }
 },
 "nbformat": 4,
 "nbformat_minor": 5
}
