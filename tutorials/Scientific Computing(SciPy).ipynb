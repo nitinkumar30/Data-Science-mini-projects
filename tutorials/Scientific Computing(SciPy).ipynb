{
 "cells": [
  {
   "cell_type": "markdown",
   "id": "038ae3a9",
   "metadata": {},
   "source": [
    "# SciPy in Data Science"
   ]
  },
  {
   "cell_type": "markdown",
   "id": "682fa4d1",
   "metadata": {},
   "source": [
    "### single integration"
   ]
  },
  {
   "cell_type": "code",
   "execution_count": 1,
   "id": "dd30082b",
   "metadata": {},
   "outputs": [],
   "source": [
    "from scipy.integrate import quad   # import scipy library"
   ]
  },
  {
   "cell_type": "code",
   "execution_count": 2,
   "id": "f81911fe",
   "metadata": {},
   "outputs": [],
   "source": [
    "def integrateFunction(x):\n",
    "    return x   # function returns the argument value"
   ]
  },
  {
   "cell_type": "code",
   "execution_count": 3,
   "id": "39dbb642",
   "metadata": {},
   "outputs": [
    {
     "data": {
      "text/plain": [
       "(0.5, 5.551115123125783e-15)"
      ]
     },
     "execution_count": 3,
     "metadata": {},
     "output_type": "execute_result"
    }
   ],
   "source": [
    "quad(integrateFunction,0,1)  # quad with limits set to 0 to 1"
   ]
  },
  {
   "cell_type": "code",
   "execution_count": 4,
   "id": "3ff97bbe",
   "metadata": {},
   "outputs": [],
   "source": [
    "def integrateFunc(x,a,b):  # another functions with multiple arguments\n",
    "    return x*a+b"
   ]
  },
  {
   "cell_type": "code",
   "execution_count": 5,
   "id": "d4fcdbff",
   "metadata": {},
   "outputs": [],
   "source": [
    "a=3\n",
    "b=2"
   ]
  },
  {
   "cell_type": "code",
   "execution_count": 6,
   "id": "48a4385b",
   "metadata": {},
   "outputs": [
    {
     "data": {
      "text/plain": [
       "(3.5, 3.885780586188048e-14)"
      ]
     },
     "execution_count": 6,
     "metadata": {},
     "output_type": "execute_result"
    }
   ],
   "source": [
    "quad(integrateFunc,0,1,args=(a,b))   # providing the desired arguments"
   ]
  },
  {
   "cell_type": "markdown",
   "id": "4a015950",
   "metadata": {},
   "source": [
    "### double integration"
   ]
  },
  {
   "cell_type": "code",
   "execution_count": 11,
   "id": "7258f2b9",
   "metadata": {},
   "outputs": [],
   "source": [
    "import scipy.integrate as integrate"
   ]
  },
  {
   "cell_type": "code",
   "execution_count": 12,
   "id": "4b6b51f6",
   "metadata": {},
   "outputs": [
    {
     "data": {
      "text/plain": [
       "(3.0, 4.436070580899685e-14)"
      ]
     },
     "execution_count": 12,
     "metadata": {},
     "output_type": "execute_result"
    }
   ],
   "source": [
    "def f(x,y):\n",
    "    return x+y\n",
    "integrate.dblquad(f,0,1,lambda x:0, lambda x:2)   # double integration"
   ]
  },
  {
   "cell_type": "markdown",
   "id": "9bf58736",
   "metadata": {},
   "source": [
    "### optimization \n",
    "> Used to improve the performance of the system mathematically by fine tuning the process parameters"
   ]
  },
  {
   "cell_type": "code",
   "execution_count": 14,
   "id": "73a1bce4",
   "metadata": {},
   "outputs": [],
   "source": [
    "import numpy as np\n",
    "from scipy import optimize"
   ]
  },
  {
   "cell_type": "code",
   "execution_count": 15,
   "id": "e79138e6",
   "metadata": {},
   "outputs": [],
   "source": [
    "def f(x):\n",
    "    return x**2 + 5*np.sin(x)   # define function for the x square plus 5 sin(x)"
   ]
  },
  {
   "cell_type": "code",
   "execution_count": 21,
   "id": "d7934c37",
   "metadata": {},
   "outputs": [
    {
     "name": "stdout",
     "output_type": "stream",
     "text": [
      "Optimization terminated successfully.\n",
      "         Current function value: -3.246394\n",
      "         Iterations: 5\n",
      "         Function evaluations: 12\n",
      "         Gradient evaluations: 6\n"
     ]
    }
   ],
   "source": [
    "minimal_value = optimize.minimize(f,x0=0,method='bfgs',options={'disp':True})   # perform optimize minimize function\n",
    "                                                                                # using bfgs method and options"
   ]
  },
  {
   "cell_type": "code",
   "execution_count": 22,
   "id": "ccee1d65",
   "metadata": {},
   "outputs": [
    {
     "data": {
      "text/plain": [
       "      fun: -3.2463942726915387\n",
       " hess_inv: array([[0.15435217]])\n",
       "      jac: array([-2.98023224e-08])\n",
       "  message: 'Optimization terminated successfully.'\n",
       "     nfev: 12\n",
       "      nit: 5\n",
       "     njev: 6\n",
       "   status: 0\n",
       "  success: True\n",
       "        x: array([-1.11051052])"
      ]
     },
     "execution_count": 22,
     "metadata": {},
     "output_type": "execute_result"
    }
   ],
   "source": [
    "minimalValueWithoutOutput=optimize.minimize(f,x0=0,method='bfgs')  # perform optimize minimize function\n",
    "minimalValueWithoutOutput                                          # using bfgs method and without options"
   ]
  },
  {
   "cell_type": "code",
   "execution_count": 26,
   "id": "4ca9d790",
   "metadata": {},
   "outputs": [],
   "source": [
    "from scipy.optimize import root"
   ]
  },
  {
   "cell_type": "code",
   "execution_count": 27,
   "id": "2a1e4c28",
   "metadata": {},
   "outputs": [],
   "source": [
    "def rootFunc(x):\n",
    "    return x + 3.5* np.cos((x))   # define function"
   ]
  },
  {
   "cell_type": "code",
   "execution_count": 29,
   "id": "8ecc9f4e",
   "metadata": {},
   "outputs": [
    {
     "data": {
      "text/plain": [
       "    fjac: array([[-1.]])\n",
       "     fun: array([0.])\n",
       " message: 'The solution converged.'\n",
       "    nfev: 14\n",
       "     qtf: array([-8.32889313e-13])\n",
       "       r: array([-4.28198145])\n",
       "  status: 1\n",
       " success: True\n",
       "       x: array([-1.21597614])"
      ]
     },
     "execution_count": 29,
     "metadata": {},
     "output_type": "execute_result"
    }
   ],
   "source": [
    "rootValue = root(rootFunc,0.3)   # pass x value in argument for root\n",
    "rootValue       # function values and array values "
   ]
  },
  {
   "cell_type": "markdown",
   "id": "62ec3c60",
   "metadata": {},
   "source": [
    "### Inverse of matrix"
   ]
  },
  {
   "cell_type": "code",
   "execution_count": 4,
   "id": "ab976ecf",
   "metadata": {},
   "outputs": [
    {
     "data": {
      "text/plain": [
       "array([[10,  3],\n",
       "       [ 2,  8]])"
      ]
     },
     "execution_count": 4,
     "metadata": {},
     "output_type": "execute_result"
    }
   ],
   "source": [
    "import numpy as np\n",
    "from scipy import linalg\n",
    "\n",
    "matrix = np.array([[10,3],[2,8]])\n",
    "matrix"
   ]
  },
  {
   "cell_type": "code",
   "execution_count": 13,
   "id": "1fd0e7aa",
   "metadata": {},
   "outputs": [
    {
     "data": {
      "text/plain": [
       "numpy.ndarray"
      ]
     },
     "execution_count": 13,
     "metadata": {},
     "output_type": "execute_result"
    }
   ],
   "source": [
    "type(matrix)"
   ]
  },
  {
   "cell_type": "code",
   "execution_count": 8,
   "id": "0d376f78",
   "metadata": {},
   "outputs": [
    {
     "data": {
      "text/plain": [
       "array([[ 0.10810811, -0.04054054],\n",
       "       [-0.02702703,  0.13513514]])"
      ]
     },
     "execution_count": 8,
     "metadata": {},
     "output_type": "execute_result"
    }
   ],
   "source": [
    "linalg.inv(matrix)   # inversing the elements of matrix"
   ]
  },
  {
   "cell_type": "markdown",
   "id": "3e807c5e",
   "metadata": {},
   "source": [
    "### finding determinant"
   ]
  },
  {
   "cell_type": "code",
   "execution_count": 11,
   "id": "e8201b53",
   "metadata": {},
   "outputs": [
    {
     "data": {
      "text/plain": [
       "74.0"
      ]
     },
     "execution_count": 11,
     "metadata": {},
     "output_type": "execute_result"
    }
   ],
   "source": [
    "linalg.det(matrix)   # method to find determinant"
   ]
  },
  {
   "cell_type": "markdown",
   "id": "8752270d",
   "metadata": {},
   "source": [
    "### Solve linear functions"
   ]
  },
  {
   "cell_type": "code",
   "execution_count": 16,
   "id": "7b6dff20",
   "metadata": {},
   "outputs": [],
   "source": [
    "# Linear Equations:\n",
    "# 2x + 3y + z = 21\n",
    "# -x + 5y + 4z = 9\n",
    "# 3x + 2y + 9z = 6"
   ]
  },
  {
   "cell_type": "code",
   "execution_count": 14,
   "id": "28d7b03f",
   "metadata": {},
   "outputs": [],
   "source": [
    "numArray = np.array([[2,3,1],[-1,5,4],[3,2,9]])\n",
    "numArrayValue = np.array([21,9,6])"
   ]
  },
  {
   "cell_type": "code",
   "execution_count": 15,
   "id": "996e785c",
   "metadata": {},
   "outputs": [
    {
     "data": {
      "text/plain": [
       "array([ 4.95,  4.35, -1.95])"
      ]
     },
     "execution_count": 15,
     "metadata": {},
     "output_type": "execute_result"
    }
   ],
   "source": [
    "linalg.solve(numArray, numArrayValue)    # method to solve linear equations"
   ]
  },
  {
   "cell_type": "markdown",
   "id": "be097ae2",
   "metadata": {},
   "source": [
    "### Single value decomposition"
   ]
  },
  {
   "cell_type": "code",
   "execution_count": 17,
   "id": "5f41a6cd",
   "metadata": {},
   "outputs": [
    {
     "data": {
      "text/plain": [
       "(2, 2)"
      ]
     },
     "execution_count": 17,
     "metadata": {},
     "output_type": "execute_result"
    }
   ],
   "source": [
    "matrix.shape"
   ]
  },
  {
   "cell_type": "code",
   "execution_count": 18,
   "id": "81246f07",
   "metadata": {},
   "outputs": [
    {
     "data": {
      "text/plain": [
       "(array([[-0.84330347, -0.53743768],\n",
       "        [-0.53743768,  0.84330347]]),\n",
       " array([11.70646059,  6.32129579]),\n",
       " array([[-0.8121934 , -0.58338827],\n",
       "        [-0.58338827,  0.8121934 ]]))"
      ]
     },
     "execution_count": 18,
     "metadata": {},
     "output_type": "execute_result"
    }
   ],
   "source": [
    "linalg.svd(matrix)"
   ]
  },
  {
   "cell_type": "code",
   "execution_count": 19,
   "id": "f0189e4c",
   "metadata": {},
   "outputs": [],
   "source": [
    "# (array([[-0.84330347, -0.53743768],\n",
    "#         [-0.53743768,  0.84330347]]),    <- Unitary matrix\n",
    "\n",
    "#  array([11.70646059,  6.32129579]),     <- Sigma or Square root of eigenvalues\n",
    "\n",
    "#  array([[-0.8121934 , -0.58338827],\n",
    "#         [-0.58338827,  0.8121934 ]]))   <- VH is values collected into unitary matrix"
   ]
  },
  {
   "cell_type": "markdown",
   "id": "a596ec90",
   "metadata": {},
   "source": [
    "## Eigenvalues & EigenVector"
   ]
  },
  {
   "cell_type": "code",
   "execution_count": 25,
   "id": "eae6fc62",
   "metadata": {},
   "outputs": [],
   "source": [
    "# import the required libraries\n",
    "import numpy as np\n",
    "from scipy import linalg"
   ]
  },
  {
   "cell_type": "code",
   "execution_count": 27,
   "id": "b1efe56c",
   "metadata": {},
   "outputs": [],
   "source": [
    "# test_data matrix\n",
    "test_rating_data = np.array([[5,8],[7,9]])\n",
    "eigenValues, eigenVector = linalg.eig(test_rating_data)\n",
    "first_eigen, second_eigen = eigenValues"
   ]
  },
  {
   "cell_type": "code",
   "execution_count": 28,
   "id": "9a3451c5",
   "metadata": {},
   "outputs": [
    {
     "data": {
      "text/plain": [
       "((-0.745966692414834+0j), (14.745966692414834+0j))"
      ]
     },
     "execution_count": 28,
     "metadata": {},
     "output_type": "execute_result"
    }
   ],
   "source": [
    "# print eigenvalues\n",
    "first_eigen, second_eigen"
   ]
  },
  {
   "cell_type": "code",
   "execution_count": 29,
   "id": "af79c4fa",
   "metadata": {},
   "outputs": [
    {
     "data": {
      "text/plain": [
       "array([-0.81220939,  0.58336601])"
      ]
     },
     "execution_count": 29,
     "metadata": {},
     "output_type": "execute_result"
    }
   ],
   "source": [
    "# print first eigenvector\n",
    "eigenVector[:,0]"
   ]
  },
  {
   "cell_type": "code",
   "execution_count": 30,
   "id": "25632269",
   "metadata": {},
   "outputs": [
    {
     "data": {
      "text/plain": [
       "array([-0.63447346, -0.77294465])"
      ]
     },
     "execution_count": 30,
     "metadata": {},
     "output_type": "execute_result"
    }
   ],
   "source": [
    "# print second eigenvector\n",
    "eigenVector[:,1]"
   ]
  },
  {
   "cell_type": "markdown",
   "id": "145462b4",
   "metadata": {},
   "source": [
    "## Scipy sub-package - statistics"
   ]
  },
  {
   "cell_type": "code",
   "execution_count": 31,
   "id": "7e8f6112",
   "metadata": {},
   "outputs": [],
   "source": [
    "from scipy.stats import norm   # import norm for normal distribution "
   ]
  },
  {
   "cell_type": "code",
   "execution_count": 35,
   "id": "a556db3d",
   "metadata": {},
   "outputs": [
    {
     "data": {
      "text/plain": [
       "array([-2.241751  ,  0.49747882, -0.31184421, -1.97855208,  0.1268317 ,\n",
       "        1.24429959,  0.73440685,  1.04435889,  1.02582785, -1.07049541])"
      ]
     },
     "execution_count": 35,
     "metadata": {},
     "output_type": "execute_result"
    }
   ],
   "source": [
    "norm.rvs(loc=0,scale=1,size=10)   # rvs for ransom variables"
   ]
  },
  {
   "cell_type": "code",
   "execution_count": 37,
   "id": "26e0341a",
   "metadata": {},
   "outputs": [
    {
     "data": {
      "text/plain": [
       "0.9772498680518208"
      ]
     },
     "execution_count": 37,
     "metadata": {},
     "output_type": "execute_result"
    }
   ],
   "source": [
    "norm.cdf(5,loc=1,scale=2)   # cds for Commulative Distribution Function"
   ]
  },
  {
   "cell_type": "code",
   "execution_count": 38,
   "id": "b6b2b089",
   "metadata": {},
   "outputs": [
    {
     "data": {
      "text/plain": [
       "1.0279773571668917e-18"
      ]
     },
     "execution_count": 38,
     "metadata": {},
     "output_type": "execute_result"
    }
   ],
   "source": [
    "norm.pdf(9,loc=0,scale=1)   # pdf for Probability Density Function for random distribution"
   ]
  }
 ],
 "metadata": {
  "kernelspec": {
   "display_name": "Python 3",
   "language": "python",
   "name": "python3"
  },
  "language_info": {
   "codemirror_mode": {
    "name": "ipython",
    "version": 3
   },
   "file_extension": ".py",
   "mimetype": "text/x-python",
   "name": "python",
   "nbconvert_exporter": "python",
   "pygments_lexer": "ipython3",
   "version": "3.8.8"
  }
 },
 "nbformat": 4,
 "nbformat_minor": 5
}
