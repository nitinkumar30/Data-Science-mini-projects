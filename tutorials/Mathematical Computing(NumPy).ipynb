{
 "cells": [
  {
   "cell_type": "code",
   "execution_count": 3,
   "id": "9229553c",
   "metadata": {},
   "outputs": [],
   "source": [
    "import numpy as np"
   ]
  },
  {
   "cell_type": "code",
   "execution_count": 6,
   "id": "70e41420",
   "metadata": {},
   "outputs": [],
   "source": [
    "# first numpy array\n",
    "first_numpy_array = np.array([1,2,3,4])"
   ]
  },
  {
   "cell_type": "code",
   "execution_count": 7,
   "id": "64dc5204",
   "metadata": {},
   "outputs": [
    {
     "name": "stdout",
     "output_type": "stream",
     "text": [
      "[1 2 3 4]\n"
     ]
    }
   ],
   "source": [
    "# printing our first array\n",
    "print(first_numpy_array)"
   ]
  },
  {
   "cell_type": "code",
   "execution_count": 10,
   "id": "58899a15",
   "metadata": {},
   "outputs": [
    {
     "name": "stdout",
     "output_type": "stream",
     "text": [
      "[[0. 0. 0.]\n",
      " [0. 0. 0.]\n",
      " [0. 0. 0.]]\n"
     ]
    }
   ],
   "source": [
    "# array with only zeroes\n",
    "array_with_zeros = np.zeros((3, 3))\n",
    "print(array_with_zeros)"
   ]
  },
  {
   "cell_type": "code",
   "execution_count": 52,
   "id": "7059fda7",
   "metadata": {},
   "outputs": [
    {
     "name": "stdout",
     "output_type": "stream",
     "text": [
      "[[1. 1. 1.]\n",
      " [1. 1. 1.]\n",
      " [1. 1. 1.]]\n"
     ]
    }
   ],
   "source": [
    "# array with only ones\n",
    "array_with_ones = np.ones((3, 3))\n",
    "print(array_with_ones)"
   ]
  },
  {
   "cell_type": "code",
   "execution_count": 15,
   "id": "9192b52f",
   "metadata": {},
   "outputs": [
    {
     "name": "stdout",
     "output_type": "stream",
     "text": [
      "[[0. 0. 0.]\n",
      " [0. 0. 0.]]\n"
     ]
    }
   ],
   "source": [
    "# array with empty values\n",
    "array_with_empty = np.empty((2, 3))\n",
    "print(array_with_empty)"
   ]
  },
  {
   "cell_type": "code",
   "execution_count": 18,
   "id": "b7ffb1b9",
   "metadata": {},
   "outputs": [],
   "source": [
    "# array with arrange method\n",
    "np_arange = np.arange(12)"
   ]
  },
  {
   "cell_type": "code",
   "execution_count": 19,
   "id": "fd6ea05f",
   "metadata": {},
   "outputs": [
    {
     "name": "stdout",
     "output_type": "stream",
     "text": [
      "[ 0  1  2  3  4  5  6  7  8  9 10 11]\n"
     ]
    }
   ],
   "source": [
    "# print array\n",
    "print(np_arange)"
   ]
  },
  {
   "cell_type": "code",
   "execution_count": 21,
   "id": "b847d9db",
   "metadata": {},
   "outputs": [
    {
     "data": {
      "text/plain": [
       "array([[ 0,  1,  2,  3],\n",
       "       [ 4,  5,  6,  7],\n",
       "       [ 8,  9, 10, 11]])"
      ]
     },
     "execution_count": 21,
     "metadata": {},
     "output_type": "execute_result"
    }
   ],
   "source": [
    "# reshape method to change/create the array\n",
    "np_arange.reshape(3, 4)"
   ]
  },
  {
   "cell_type": "code",
   "execution_count": 25,
   "id": "878b9a84",
   "metadata": {},
   "outputs": [
    {
     "name": "stdout",
     "output_type": "stream",
     "text": [
      "[0. 2. 4. 6.]\n"
     ]
    }
   ],
   "source": [
    "# linspace method for linearly(equal) spaced data elements\n",
    "np_linspace = np.linspace(0, 6, 4)      # np.linspace(first_element, last_element, total_number_of_equidistant_elements)\n",
    "print(np_linspace)"
   ]
  },
  {
   "cell_type": "code",
   "execution_count": 26,
   "id": "9465ad1e",
   "metadata": {},
   "outputs": [
    {
     "name": "stdout",
     "output_type": "stream",
     "text": [
      "[ 0  1  2  3  4  5  6  7  8  9 10 11 12 13 14]\n"
     ]
    }
   ],
   "source": [
    "# one-dimensional array\n",
    "oneD_array = np.arange(15)\n",
    "print(oneD_array)"
   ]
  },
  {
   "cell_type": "code",
   "execution_count": 27,
   "id": "4b2efaaa",
   "metadata": {},
   "outputs": [
    {
     "name": "stdout",
     "output_type": "stream",
     "text": [
      "[[ 0  1  2  3  4]\n",
      " [ 5  6  7  8  9]\n",
      " [10 11 12 13 14]]\n"
     ]
    }
   ],
   "source": [
    "# two-dimensional array\n",
    "twoD_array = oneD_array.reshape(3, 5)\n",
    "print(twoD_array)"
   ]
  },
  {
   "cell_type": "code",
   "execution_count": 47,
   "id": "1ec53858",
   "metadata": {
    "scrolled": true
   },
   "outputs": [
    {
     "name": "stdout",
     "output_type": "stream",
     "text": [
      "[[[ 0  1  2]\n",
      "  [ 3  4  5]\n",
      "  [ 6  7  8]]\n",
      "\n",
      " [[ 9 10 11]\n",
      "  [12 13 14]\n",
      "  [15 16 17]]\n",
      "\n",
      " [[18 19 20]\n",
      "  [21 22 23]\n",
      "  [24 25 26]]]\n"
     ]
    }
   ],
   "source": [
    "# three-dimensional array\n",
    "threeD_array = np.arange(27).reshape(3,3,3)\n",
    "print(threeD_array)"
   ]
  },
  {
   "cell_type": "code",
   "execution_count": 30,
   "id": "f1d03b84",
   "metadata": {},
   "outputs": [
    {
     "name": "stdout",
     "output_type": "stream",
     "text": [
      "1\n",
      "3\n",
      "2\n"
     ]
    }
   ],
   "source": [
    "# ndim method of ndarray displays the no of dimensions of the array\n",
    "print(oneD_array.ndim)\n",
    "print(threeD_array.ndim)\n",
    "print(twoD_array.ndim)"
   ]
  },
  {
   "cell_type": "code",
   "execution_count": 31,
   "id": "db58b53b",
   "metadata": {},
   "outputs": [
    {
     "name": "stdout",
     "output_type": "stream",
     "text": [
      "(3, 3, 3)\n",
      "(3, 5)\n",
      "(15,)\n"
     ]
    }
   ],
   "source": [
    "# shape method of ndarray\n",
    "\n",
    "print(threeD_array.shape)\n",
    "print(twoD_array.shape)\n",
    "print(oneD_array.shape)\n",
    "\n",
    "# output = (no_of_rows, no_of_cols, no_of_rank)"
   ]
  },
  {
   "cell_type": "code",
   "execution_count": 32,
   "id": "4e5c926b",
   "metadata": {},
   "outputs": [
    {
     "name": "stdout",
     "output_type": "stream",
     "text": [
      "15\n",
      "15\n",
      "27\n"
     ]
    }
   ],
   "source": [
    "# size method of ndarray displays the no of elements in array\n",
    "\n",
    "print(twoD_array.size)\n",
    "print(oneD_array.size)\n",
    "print(threeD_array.size)"
   ]
  },
  {
   "cell_type": "code",
   "execution_count": 43,
   "id": "c1ea1696",
   "metadata": {},
   "outputs": [
    {
     "name": "stdout",
     "output_type": "stream",
     "text": [
      "[0 1 2 3 4 5 6 7 8 9]\n",
      "int32\n",
      "float64\n",
      "|S5\n"
     ]
    }
   ],
   "source": [
    "# dtype method describes the type of elements in array\n",
    "\n",
    "int_array = np.arange(10)\n",
    "float_array = np.array(10, dtype=\"float\")\n",
    "string_array = np.array('n', dtype=\"|S5\")\n",
    "\n",
    "print(int_array)\n",
    "print(int_array.dtype)\n",
    "print(float_array.dtype)\n",
    "print(string_array.dtype)"
   ]
  },
  {
   "cell_type": "markdown",
   "id": "6f35b2af",
   "metadata": {},
   "source": [
    "# Basic oprations in NumPy"
   ]
  },
  {
   "cell_type": "code",
   "execution_count": 44,
   "id": "93f1978f",
   "metadata": {},
   "outputs": [],
   "source": [
    "first_trial_cycle = [10, 15, 17, 26]\n",
    "second_trial_cycle = [12, 11, 21, 24]"
   ]
  },
  {
   "cell_type": "code",
   "execution_count": 45,
   "id": "1c26e209",
   "metadata": {},
   "outputs": [],
   "source": [
    "np_first_trial_cycle = np.array(first_trial_cycle)\n",
    "np_second_trial_cycle = np.array(second_trial_cycle)"
   ]
  },
  {
   "cell_type": "code",
   "execution_count": 48,
   "id": "4255fa70",
   "metadata": {},
   "outputs": [
    {
     "data": {
      "text/plain": [
       "[10, 15, 17, 26, 10, 15, 17, 26]"
      ]
     },
     "execution_count": 48,
     "metadata": {},
     "output_type": "execute_result"
    }
   ],
   "source": [
    "first_trial_cycle + first_trial_cycle  # adding the elements after first elements"
   ]
  },
  {
   "cell_type": "code",
   "execution_count": 50,
   "id": "470e0020",
   "metadata": {},
   "outputs": [
    {
     "data": {
      "text/plain": [
       "array([20, 30, 34, 52])"
      ]
     },
     "execution_count": 50,
     "metadata": {},
     "output_type": "execute_result"
    }
   ],
   "source": [
    "np_first_trial_cycle + np_first_trial_cycle   # addition of array elements of 2 arrays"
   ]
  },
  {
   "cell_type": "code",
   "execution_count": 51,
   "id": "4119aa0d",
   "metadata": {},
   "outputs": [
    {
     "data": {
      "text/plain": [
       "55"
      ]
     },
     "execution_count": 51,
     "metadata": {},
     "output_type": "execute_result"
    }
   ],
   "source": [
    "np.add(45,10)"
   ]
  },
  {
   "cell_type": "code",
   "execution_count": 52,
   "id": "2024e971",
   "metadata": {},
   "outputs": [
    {
     "data": {
      "text/plain": [
       "35"
      ]
     },
     "execution_count": 52,
     "metadata": {},
     "output_type": "execute_result"
    }
   ],
   "source": [
    "np.subtract(45,10)"
   ]
  },
  {
   "cell_type": "markdown",
   "id": "4f970e5e",
   "metadata": {},
   "source": [
    "### An example"
   ]
  },
  {
   "cell_type": "code",
   "execution_count": 53,
   "id": "8c75c08d",
   "metadata": {},
   "outputs": [
    {
     "name": "stdout",
     "output_type": "stream",
     "text": [
      "[105 135 195 120 165]\n"
     ]
    }
   ],
   "source": [
    "np_daily_wage = np.array([7,9,13,8,11]) * 15\n",
    "print(np_daily_wage)"
   ]
  },
  {
   "cell_type": "code",
   "execution_count": 54,
   "id": "80f357a4",
   "metadata": {},
   "outputs": [
    {
     "data": {
      "text/plain": [
       "720"
      ]
     },
     "execution_count": 54,
     "metadata": {},
     "output_type": "execute_result"
    }
   ],
   "source": [
    "sum(np_daily_wage)"
   ]
  },
  {
   "cell_type": "markdown",
   "id": "75a73d0c",
   "metadata": {},
   "source": [
    "### Comparison Operations"
   ]
  },
  {
   "cell_type": "code",
   "execution_count": 56,
   "id": "81b4bf3c",
   "metadata": {},
   "outputs": [],
   "source": [
    "# create ndarray for weekly hours, 5 consecutive hours data\n",
    "np_weekly_hours = np.array([23,41,55,47,38])"
   ]
  },
  {
   "cell_type": "code",
   "execution_count": 57,
   "id": "e826dac5",
   "metadata": {},
   "outputs": [
    {
     "data": {
      "text/plain": [
       "array([41, 55, 47])"
      ]
     },
     "execution_count": 57,
     "metadata": {},
     "output_type": "execute_result"
    }
   ],
   "source": [
    "# week with more than 40 hours\n",
    "np_weekly_hours[np_weekly_hours>40]"
   ]
  },
  {
   "cell_type": "code",
   "execution_count": 58,
   "id": "b3e88407",
   "metadata": {},
   "outputs": [
    {
     "data": {
      "text/plain": [
       "array([23, 41, 55, 47, 38])"
      ]
     },
     "execution_count": 58,
     "metadata": {},
     "output_type": "execute_result"
    }
   ],
   "source": [
    "# Week with more not equals to 40 hours\n",
    "np_weekly_hours[np_weekly_hours!=40]"
   ]
  },
  {
   "cell_type": "markdown",
   "id": "3dfecc6a",
   "metadata": {},
   "source": [
    "### Logical operations"
   ]
  },
  {
   "cell_type": "code",
   "execution_count": 59,
   "id": "beb24de8",
   "metadata": {},
   "outputs": [
    {
     "data": {
      "text/plain": [
       "array([ True,  True, False,  True,  True])"
      ]
     },
     "execution_count": 59,
     "metadata": {},
     "output_type": "execute_result"
    }
   ],
   "source": [
    "# Logical AND operation\n",
    "np.logical_and(np_weekly_hours>20, np_weekly_hours<50)"
   ]
  },
  {
   "cell_type": "code",
   "execution_count": 61,
   "id": "0c58a511",
   "metadata": {},
   "outputs": [
    {
     "data": {
      "text/plain": [
       "array([ True, False, False, False, False])"
      ]
     },
     "execution_count": 61,
     "metadata": {},
     "output_type": "execute_result"
    }
   ],
   "source": [
    "# Logical NOT operation\n",
    "np.logical_not(np_weekly_hours>35)"
   ]
  },
  {
   "cell_type": "code",
   "execution_count": 64,
   "id": "c68d442b",
   "metadata": {},
   "outputs": [],
   "source": [
    "# The corresponding rows:cols in ndarray is specified by below:\n",
    "\n",
    "# (0,0) (0,1) (0,2) (0,3)\n",
    "# (1,0) (1,1) (1,2) (1,3)"
   ]
  },
  {
   "cell_type": "code",
   "execution_count": 77,
   "id": "e0565f91",
   "metadata": {},
   "outputs": [
    {
     "name": "stdout",
     "output_type": "stream",
     "text": [
      "[[0. 0.]\n",
      " [0. 0.]\n",
      " [0. 0.]]\n",
      "\n",
      "\n",
      "[[1 2 3]\n",
      " [4 5 6]\n",
      " [7 8 9]]\n"
     ]
    }
   ],
   "source": [
    "# Slicing array data where 1 is inclusive but 3 is not\n",
    "# Use : to select all rows\n",
    "# 1 -> starting index ,3 -> ending index-1\n",
    "\n",
    "# np_trial_data_1 = np.array([[1,2,3],[4,5,6], [7,8,9]])\n",
    "# print(np_trial_data_1)\n",
    "\n",
    "np_trial_data = np.zeros((3, 3))\n",
    "trial_data = np_trial_data[:,1:3]\n",
    "print(trial_data)\n",
    "print(\"\\n\")"
   ]
  },
  {
   "cell_type": "code",
   "execution_count": 76,
   "id": "14ce8185",
   "metadata": {},
   "outputs": [
    {
     "name": "stdout",
     "output_type": "stream",
     "text": [
      "[0. 0. 0.]\n",
      "[0. 0. 0.]\n",
      "[0. 0. 0.]\n"
     ]
    }
   ],
   "source": [
    "# print all elements using for loop\n",
    "for i in np_trial_data:\n",
    "    print(i)"
   ]
  },
  {
   "cell_type": "markdown",
   "id": "9642c1c4",
   "metadata": {},
   "source": [
    "### Indexing with Boolean arrays\n",
    "### Conditional Arguments in ndarray"
   ]
  },
  {
   "cell_type": "code",
   "execution_count": 78,
   "id": "dbb300cb",
   "metadata": {},
   "outputs": [],
   "source": [
    "# Test scores of students in 4 different subjects \n",
    "test_scores = np.array([[83,71,57,63],[54,68,81,45]])"
   ]
  },
  {
   "cell_type": "code",
   "execution_count": 80,
   "id": "02b06dfb",
   "metadata": {},
   "outputs": [
    {
     "name": "stdout",
     "output_type": "stream",
     "text": [
      "[[ True  True False  True]\n",
      " [False  True  True False]]\n"
     ]
    }
   ],
   "source": [
    "# Passing score should be >60. So, given condition accordingly\n",
    "pass_score = test_scores>60\n",
    "print(pass_score)\n",
    "# displays elements which fit criteria"
   ]
  },
  {
   "cell_type": "code",
   "execution_count": 82,
   "id": "64861c49",
   "metadata": {},
   "outputs": [
    {
     "data": {
      "text/plain": [
       "array([83, 71, 63, 68, 81])"
      ]
     },
     "execution_count": 82,
     "metadata": {},
     "output_type": "execute_result"
    }
   ],
   "source": [
    "# prints the elements which fit the criteria\n",
    "test_scores[pass_score]"
   ]
  },
  {
   "cell_type": "markdown",
   "id": "f5a7eaa1",
   "metadata": {},
   "source": [
    "### Universal functions"
   ]
  },
  {
   "cell_type": "code",
   "execution_count": 8,
   "id": "cd4edc47",
   "metadata": {},
   "outputs": [
    {
     "name": "stdout",
     "output_type": "stream",
     "text": [
      "[1.41421356 2.         3.         4.        ]\n"
     ]
    }
   ],
   "source": [
    "# sqrt\n",
    "# cos\n",
    "# sin\n",
    "# floor\n",
    "# exp\n",
    "\n",
    "np_arr = np.sqrt([2,4,9,16])\n",
    "print(np_arr)"
   ]
  },
  {
   "cell_type": "code",
   "execution_count": 7,
   "id": "3abe4a38",
   "metadata": {},
   "outputs": [
    {
     "data": {
      "text/plain": [
       "-1.0"
      ]
     },
     "execution_count": 7,
     "metadata": {},
     "output_type": "execute_result"
    }
   ],
   "source": [
    "from numpy import pi\n",
    "np.cos(0)"
   ]
  },
  {
   "cell_type": "code",
   "execution_count": 11,
   "id": "76936c1d",
   "metadata": {},
   "outputs": [
    {
     "data": {
      "text/plain": [
       "1.0"
      ]
     },
     "execution_count": 11,
     "metadata": {},
     "output_type": "execute_result"
    }
   ],
   "source": [
    "np.sin(pi/2)"
   ]
  },
  {
   "cell_type": "code",
   "execution_count": 12,
   "id": "837a29e1",
   "metadata": {},
   "outputs": [
    {
     "data": {
      "text/plain": [
       "-1.0"
      ]
     },
     "execution_count": 12,
     "metadata": {},
     "output_type": "execute_result"
    }
   ],
   "source": [
    "np.cos(pi)"
   ]
  },
  {
   "cell_type": "code",
   "execution_count": 9,
   "id": "cabf0de4",
   "metadata": {},
   "outputs": [
    {
     "data": {
      "text/plain": [
       "array([  1.        ,   2.71828183, 148.4131591 ])"
      ]
     },
     "execution_count": 9,
     "metadata": {},
     "output_type": "execute_result"
    }
   ],
   "source": [
    "np.exp([0, 1, 5])"
   ]
  },
  {
   "cell_type": "code",
   "execution_count": 10,
   "id": "d603edb8",
   "metadata": {},
   "outputs": [
    {
     "data": {
      "text/plain": [
       "array([  1.,   5.,   3.,  -1., -10.])"
      ]
     },
     "execution_count": 10,
     "metadata": {},
     "output_type": "execute_result"
    }
   ],
   "source": [
    "np.floor([1.3, 5.2, 3.7, -0.4, -10.0])"
   ]
  },
  {
   "cell_type": "code",
   "execution_count": 13,
   "id": "39c4ec9e",
   "metadata": {},
   "outputs": [],
   "source": [
    "# reshaping :\n",
    "# 1. split\n",
    "# 2. flatten\n",
    "# 3. resize\n",
    "# 4. reshape\n",
    "# 5. stack"
   ]
  },
  {
   "cell_type": "code",
   "execution_count": 17,
   "id": "c4e62f26",
   "metadata": {},
   "outputs": [
    {
     "name": "stdout",
     "output_type": "stream",
     "text": [
      "[[23  1 54 34 76 23 67 40]\n",
      " [20 53 23 46 23 56 34 89]]\n"
     ]
    }
   ],
   "source": [
    "np_shape_manipulation = np.array([[23,1,54,34,76,23,67,40],[20,53,23,46,23,56,34,89]])\n",
    "print(np_shape_manipulation)"
   ]
  },
  {
   "cell_type": "code",
   "execution_count": 18,
   "id": "6b2ab2a6",
   "metadata": {},
   "outputs": [
    {
     "data": {
      "text/plain": [
       "array([23,  1, 54, 34, 76, 23, 67, 40, 20, 53, 23, 46, 23, 56, 34, 89])"
      ]
     },
     "execution_count": 18,
     "metadata": {},
     "output_type": "execute_result"
    }
   ],
   "source": [
    "np_shape_manipulation.ravel()  # in single line"
   ]
  },
  {
   "cell_type": "code",
   "execution_count": 19,
   "id": "a2a83b01",
   "metadata": {},
   "outputs": [
    {
     "data": {
      "text/plain": [
       "array([[23,  1, 54, 34],\n",
       "       [76, 23, 67, 40],\n",
       "       [20, 53, 23, 46],\n",
       "       [23, 56, 34, 89]])"
      ]
     },
     "execution_count": 19,
     "metadata": {},
     "output_type": "execute_result"
    }
   ],
   "source": [
    "np_shape_manipulation.reshape(4,4)  # in array with rows,cols = 4,4"
   ]
  },
  {
   "cell_type": "code",
   "execution_count": 22,
   "id": "4429c51f",
   "metadata": {},
   "outputs": [
    {
     "name": "stdout",
     "output_type": "stream",
     "text": [
      "[[23  1]\n",
      " [54 34]\n",
      " [76 23]\n",
      " [67 40]\n",
      " [20 53]\n",
      " [23 46]\n",
      " [23 56]\n",
      " [34 89]]\n"
     ]
    }
   ],
   "source": [
    "np_shape_manipulation.resize(8,2)  # \n",
    "print(np_shape_manipulation)"
   ]
  },
  {
   "cell_type": "code",
   "execution_count": 24,
   "id": "ed4762e6",
   "metadata": {},
   "outputs": [
    {
     "data": {
      "text/plain": [
       "[array([[23],\n",
       "        [54],\n",
       "        [76],\n",
       "        [67],\n",
       "        [20],\n",
       "        [23],\n",
       "        [23],\n",
       "        [34]]),\n",
       " array([[ 1],\n",
       "        [34],\n",
       "        [23],\n",
       "        [40],\n",
       "        [53],\n",
       "        [46],\n",
       "        [56],\n",
       "        [89]])]"
      ]
     },
     "execution_count": 24,
     "metadata": {},
     "output_type": "execute_result"
    }
   ],
   "source": [
    "np.hsplit(np_shape_manipulation, 2)   # splits the array into 2"
   ]
  },
  {
   "cell_type": "code",
   "execution_count": 31,
   "id": "cfab09ae",
   "metadata": {},
   "outputs": [],
   "source": [
    "np_arr_1 = np.array([12,45,8,23,56,34])\n",
    "np_arr_2 = np.array([2,32,57,13,76,80])"
   ]
  },
  {
   "cell_type": "code",
   "execution_count": 32,
   "id": "64cc8ccf",
   "metadata": {},
   "outputs": [
    {
     "data": {
      "text/plain": [
       "array([12, 45,  8, 23, 56, 34,  2, 32, 57, 13, 76, 80])"
      ]
     },
     "execution_count": 32,
     "metadata": {},
     "output_type": "execute_result"
    }
   ],
   "source": [
    "np.hstack((np_arr_1, np_arr_2))"
   ]
  },
  {
   "cell_type": "code",
   "execution_count": 33,
   "id": "57e0c5a0",
   "metadata": {},
   "outputs": [
    {
     "data": {
      "text/plain": [
       "array([  24, 1440,  456,  299, 4256, 2720])"
      ]
     },
     "execution_count": 33,
     "metadata": {},
     "output_type": "execute_result"
    }
   ],
   "source": [
    "np_arr_1 * np_arr_2"
   ]
  },
  {
   "cell_type": "code",
   "execution_count": 35,
   "id": "5c4a7ab7",
   "metadata": {},
   "outputs": [
    {
     "data": {
      "text/plain": [
       "array([ 36., 135.,  24.,  69., 168., 102.])"
      ]
     },
     "execution_count": 35,
     "metadata": {},
     "output_type": "execute_result"
    }
   ],
   "source": [
    "var = 3.  # only if any one size is same or one of them has size is 1\n",
    "np_arr_1 * var  # broadcasting multiplication in ndarray"
   ]
  },
  {
   "cell_type": "markdown",
   "id": "50f29b12",
   "metadata": {},
   "source": [
    "### transpose method"
   ]
  },
  {
   "cell_type": "code",
   "execution_count": 38,
   "id": "dd622300",
   "metadata": {},
   "outputs": [
    {
     "data": {
      "text/plain": [
       "array([[23,  1],\n",
       "       [54, 34],\n",
       "       [76, 23],\n",
       "       [67, 40],\n",
       "       [20, 53],\n",
       "       [23, 46],\n",
       "       [23, 56],\n",
       "       [34, 89]])"
      ]
     },
     "execution_count": 38,
     "metadata": {},
     "output_type": "execute_result"
    }
   ],
   "source": [
    "np_shape_manipulation"
   ]
  },
  {
   "cell_type": "code",
   "execution_count": 39,
   "id": "30b7f81e",
   "metadata": {},
   "outputs": [
    {
     "data": {
      "text/plain": [
       "array([[23, 54, 76, 67, 20, 23, 23, 34],\n",
       "       [ 1, 34, 23, 40, 53, 46, 56, 89]])"
      ]
     },
     "execution_count": 39,
     "metadata": {},
     "output_type": "execute_result"
    }
   ],
   "source": [
    "np_shape_manipulation.transpose()"
   ]
  },
  {
   "cell_type": "code",
   "execution_count": 42,
   "id": "818309b1",
   "metadata": {},
   "outputs": [
    {
     "name": "stdout",
     "output_type": "stream",
     "text": [
      "[[1 2 3]\n",
      " [4 5 6]\n",
      " [7 8 9]]\n"
     ]
    }
   ],
   "source": [
    "np_inverse = np.array([[1,2,3], [4,5,6], [7,8,9]])\n",
    "print(np_inverse)"
   ]
  },
  {
   "cell_type": "code",
   "execution_count": 55,
   "id": "956234b8",
   "metadata": {},
   "outputs": [
    {
     "ename": "LinAlgError",
     "evalue": "Singular matrix",
     "output_type": "error",
     "traceback": [
      "\u001b[1;31m---------------------------------------------------------------------------\u001b[0m",
      "\u001b[1;31mLinAlgError\u001b[0m                               Traceback (most recent call last)",
      "\u001b[1;32m<ipython-input-55-39ee7a5596bd>\u001b[0m in \u001b[0;36m<module>\u001b[1;34m\u001b[0m\n\u001b[1;32m----> 1\u001b[1;33m \u001b[0mnp\u001b[0m\u001b[1;33m.\u001b[0m\u001b[0mlinalg\u001b[0m\u001b[1;33m.\u001b[0m\u001b[0minv\u001b[0m\u001b[1;33m(\u001b[0m\u001b[0mthreeD_array\u001b[0m\u001b[1;33m)\u001b[0m   \u001b[1;31m# only applied to square matrix\u001b[0m\u001b[1;33m\u001b[0m\u001b[1;33m\u001b[0m\u001b[0m\n\u001b[0m\u001b[0;32m      2\u001b[0m \u001b[1;31m# np.linalg.inv(np_inverse)\u001b[0m\u001b[1;33m\u001b[0m\u001b[1;33m\u001b[0m\u001b[1;33m\u001b[0m\u001b[0m\n\u001b[0;32m      3\u001b[0m \u001b[1;31m# np.linalg.inv(array_with_ones)\u001b[0m\u001b[1;33m\u001b[0m\u001b[1;33m\u001b[0m\u001b[1;33m\u001b[0m\u001b[0m\n",
      "\u001b[1;32m<__array_function__ internals>\u001b[0m in \u001b[0;36minv\u001b[1;34m(*args, **kwargs)\u001b[0m\n",
      "\u001b[1;32m~\\anaconda3\\lib\\site-packages\\numpy\\linalg\\linalg.py\u001b[0m in \u001b[0;36minv\u001b[1;34m(a)\u001b[0m\n\u001b[0;32m    544\u001b[0m     \u001b[0msignature\u001b[0m \u001b[1;33m=\u001b[0m \u001b[1;34m'D->D'\u001b[0m \u001b[1;32mif\u001b[0m \u001b[0misComplexType\u001b[0m\u001b[1;33m(\u001b[0m\u001b[0mt\u001b[0m\u001b[1;33m)\u001b[0m \u001b[1;32melse\u001b[0m \u001b[1;34m'd->d'\u001b[0m\u001b[1;33m\u001b[0m\u001b[1;33m\u001b[0m\u001b[0m\n\u001b[0;32m    545\u001b[0m     \u001b[0mextobj\u001b[0m \u001b[1;33m=\u001b[0m \u001b[0mget_linalg_error_extobj\u001b[0m\u001b[1;33m(\u001b[0m\u001b[0m_raise_linalgerror_singular\u001b[0m\u001b[1;33m)\u001b[0m\u001b[1;33m\u001b[0m\u001b[1;33m\u001b[0m\u001b[0m\n\u001b[1;32m--> 546\u001b[1;33m     \u001b[0mainv\u001b[0m \u001b[1;33m=\u001b[0m \u001b[0m_umath_linalg\u001b[0m\u001b[1;33m.\u001b[0m\u001b[0minv\u001b[0m\u001b[1;33m(\u001b[0m\u001b[0ma\u001b[0m\u001b[1;33m,\u001b[0m \u001b[0msignature\u001b[0m\u001b[1;33m=\u001b[0m\u001b[0msignature\u001b[0m\u001b[1;33m,\u001b[0m \u001b[0mextobj\u001b[0m\u001b[1;33m=\u001b[0m\u001b[0mextobj\u001b[0m\u001b[1;33m)\u001b[0m\u001b[1;33m\u001b[0m\u001b[1;33m\u001b[0m\u001b[0m\n\u001b[0m\u001b[0;32m    547\u001b[0m     \u001b[1;32mreturn\u001b[0m \u001b[0mwrap\u001b[0m\u001b[1;33m(\u001b[0m\u001b[0mainv\u001b[0m\u001b[1;33m.\u001b[0m\u001b[0mastype\u001b[0m\u001b[1;33m(\u001b[0m\u001b[0mresult_t\u001b[0m\u001b[1;33m,\u001b[0m \u001b[0mcopy\u001b[0m\u001b[1;33m=\u001b[0m\u001b[1;32mFalse\u001b[0m\u001b[1;33m)\u001b[0m\u001b[1;33m)\u001b[0m\u001b[1;33m\u001b[0m\u001b[1;33m\u001b[0m\u001b[0m\n\u001b[0;32m    548\u001b[0m \u001b[1;33m\u001b[0m\u001b[0m\n",
      "\u001b[1;32m~\\anaconda3\\lib\\site-packages\\numpy\\linalg\\linalg.py\u001b[0m in \u001b[0;36m_raise_linalgerror_singular\u001b[1;34m(err, flag)\u001b[0m\n\u001b[0;32m     86\u001b[0m \u001b[1;33m\u001b[0m\u001b[0m\n\u001b[0;32m     87\u001b[0m \u001b[1;32mdef\u001b[0m \u001b[0m_raise_linalgerror_singular\u001b[0m\u001b[1;33m(\u001b[0m\u001b[0merr\u001b[0m\u001b[1;33m,\u001b[0m \u001b[0mflag\u001b[0m\u001b[1;33m)\u001b[0m\u001b[1;33m:\u001b[0m\u001b[1;33m\u001b[0m\u001b[1;33m\u001b[0m\u001b[0m\n\u001b[1;32m---> 88\u001b[1;33m     \u001b[1;32mraise\u001b[0m \u001b[0mLinAlgError\u001b[0m\u001b[1;33m(\u001b[0m\u001b[1;34m\"Singular matrix\"\u001b[0m\u001b[1;33m)\u001b[0m\u001b[1;33m\u001b[0m\u001b[1;33m\u001b[0m\u001b[0m\n\u001b[0m\u001b[0;32m     89\u001b[0m \u001b[1;33m\u001b[0m\u001b[0m\n\u001b[0;32m     90\u001b[0m \u001b[1;32mdef\u001b[0m \u001b[0m_raise_linalgerror_nonposdef\u001b[0m\u001b[1;33m(\u001b[0m\u001b[0merr\u001b[0m\u001b[1;33m,\u001b[0m \u001b[0mflag\u001b[0m\u001b[1;33m)\u001b[0m\u001b[1;33m:\u001b[0m\u001b[1;33m\u001b[0m\u001b[1;33m\u001b[0m\u001b[0m\n",
      "\u001b[1;31mLinAlgError\u001b[0m: Singular matrix"
     ]
    }
   ],
   "source": [
    "np.linalg.inv(threeD_array)   # only applied to square matrix\n",
    "# np.linalg.inv(np_inverse)\n",
    "# np.linalg.inv(array_with_ones)"
   ]
  },
  {
   "cell_type": "code",
   "execution_count": 44,
   "id": "566e8aeb",
   "metadata": {},
   "outputs": [
    {
     "data": {
      "text/plain": [
       "15"
      ]
     },
     "execution_count": 44,
     "metadata": {},
     "output_type": "execute_result"
    }
   ],
   "source": [
    "np.trace(np_inverse)   # sum of one diagonal from left to right"
   ]
  }
 ],
 "metadata": {
  "kernelspec": {
   "display_name": "Python 3",
   "language": "python",
   "name": "python3"
  },
  "language_info": {
   "codemirror_mode": {
    "name": "ipython",
    "version": 3
   },
   "file_extension": ".py",
   "mimetype": "text/x-python",
   "name": "python",
   "nbconvert_exporter": "python",
   "pygments_lexer": "ipython3",
   "version": "3.8.8"
  }
 },
 "nbformat": 4,
 "nbformat_minor": 5
}
